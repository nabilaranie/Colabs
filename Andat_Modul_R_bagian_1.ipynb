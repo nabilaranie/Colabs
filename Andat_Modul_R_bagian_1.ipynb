{
  "cells": [
    {
      "cell_type": "markdown",
      "metadata": {
        "id": "view-in-github",
        "colab_type": "text"
      },
      "source": [
        "<a href=\"https://colab.research.google.com/github/nabilaranie/Colabs/blob/main/Modul_R_bagian_1.ipynb\" target=\"_parent\"><img src=\"https://colab.research.google.com/assets/colab-badge.svg\" alt=\"Open In Colab\"/></a>"
      ]
    },
    {
      "cell_type": "code",
      "execution_count": null,
      "metadata": {
        "colab": {
          "background_save": true,
          "base_uri": "https://localhost:8080/"
        },
        "id": "f8306hMYflBE",
        "outputId": "919c244e-e451-4479-bf88-b06058940ea6"
      },
      "outputs": [
        {
          "name": "stderr",
          "output_type": "stream",
          "text": [
            "Installing package into ‘/usr/local/lib/R/site-library’\n",
            "(as ‘lib’ is unspecified)\n",
            "\n"
          ]
        }
      ],
      "source": [
        "install.packages(\"Hmisc\")"
      ]
    },
    {
      "cell_type": "markdown",
      "metadata": {
        "id": "TBubOP6HguY0"
      },
      "source": [
        "#**Distribusi dan Inferensi untuk Data Kategorik**\n",
        "\n",
        "by Kurnia Susvitasari\n",
        "\n",
        "\n",
        "\n",
        "---"
      ]
    },
    {
      "cell_type": "markdown",
      "metadata": {
        "id": "1sP50DHkg-jc"
      },
      "source": [
        "## Membangkitkan Variabel Acak dari Distribusi Multinomial\n",
        "\n",
        "Tentunya, bukan hal yang sulit bagi Anda untuk membangkitkan (bahkan mengevaluasi probabilitas/ probabilitas kumulatif/ quantil) dari variabel acak yang berdistribusi binomial. Namun, bagaimana dengan variabel acak yang berdistribusi multinomial?\n",
        "\n",
        "Tenang saja! R menyediakan build-in function di package `stats` dengan memanggil fungsi `rmultinom`. Selain itu, Anda juga bisa mengevaluasi pmf-nya menggunakan `dmultinom`."
      ]
    },
    {
      "cell_type": "markdown",
      "metadata": {
        "id": "79EKLA-KiVcZ"
      },
      "source": [
        "## Proporsi Vegetarian (Parameter Binomial)\n",
        "\n",
        "Contoh kasus ini merujuk pada buku Alan Agresti bab 1.4.3; baca [pg. 15, 1].\n",
        "\n",
        "Dalam sebuah kuesioner yang diberikan kepada kelas pengantar statistik $(n = 25)$, tidak ada siswa yang mengatakan mereka adalah vegetarian. Dengan asumsi bahwa jumlah yang merespons \"ya\" didistribusikan secara binomial dengan probabilitas keberhasilan $\\pi$, berapakah interval kepercayaan 95% untuk $\\pi$?\n",
        "\n",
        "Pertama, perhatikan bahwa $\\hat{\\pi}=0/25 = 0.$\n",
        "\n",
        "Dengan menggunakan Wald test, kita bisa menghitung interval kepercayaan dengan cara"
      ]
    },
    {
      "cell_type": "code",
      "execution_count": null,
      "metadata": {
        "colab": {
          "base_uri": "https://localhost:8080/",
          "height": 34
        },
        "id": "D9j4jL8bhULj",
        "outputId": "eb774655-a00d-4670-b1c6-78975afe9f68"
      },
      "outputs": [
        {
          "data": {
            "text/html": [
              "<style>\n",
              ".list-inline {list-style: none; margin:0; padding: 0}\n",
              ".list-inline>li {display: inline-block}\n",
              ".list-inline>li:not(:last-child)::after {content: \"\\00b7\"; padding: 0 .5ex}\n",
              "</style>\n",
              "<ol class=list-inline><li>0</li><li>0</li></ol>\n"
            ],
            "text/latex": "\\begin{enumerate*}\n\\item 0\n\\item 0\n\\end{enumerate*}\n",
            "text/markdown": "1. 0\n2. 0\n\n\n",
            "text/plain": [
              "[1] 0 0"
            ]
          },
          "metadata": {},
          "output_type": "display_data"
        }
      ],
      "source": [
        "phat <- 0\n",
        "n <- 25\n",
        "\n",
        "# 95% interval kepercayaannya adalah\n",
        "phat + c(-1, 1) * qnorm(p = 0.975) * sqrt((phat * (1 - phat))/n)"
      ]
    },
    {
      "cell_type": "markdown",
      "metadata": {
        "id": "JIcG_BOghcQ_"
      },
      "source": [
        "Alternatif lain untuk menghitung interval kepercayaan Wald adalah dengan menggunakan fungsi `Hmisc::binconf` dengan argumen `method = \"asymptotic\"`."
      ]
    },
    {
      "cell_type": "code",
      "execution_count": null,
      "metadata": {
        "colab": {
          "background_save": true,
          "base_uri": "https://localhost:8080/",
          "height": 108
        },
        "id": "JG7Peis8hgRP",
        "outputId": "69cc46b4-3fc0-4e4e-8692-fbe534ee3117"
      },
      "outputs": [
        {
          "name": "stderr",
          "output_type": "stream",
          "text": [
            "\n",
            "Attaching package: ‘Hmisc’\n",
            "\n",
            "\n",
            "The following objects are masked from ‘package:base’:\n",
            "\n",
            "    format.pval, units\n",
            "\n",
            "\n"
          ]
        },
        {
          "data": {
            "text/html": [
              "<table class=\"dataframe\">\n",
              "<caption>A matrix: 1 × 3 of type dbl</caption>\n",
              "<thead>\n",
              "\t<tr><th></th><th scope=col>PointEst</th><th scope=col>Lower</th><th scope=col>Upper</th></tr>\n",
              "</thead>\n",
              "<tbody>\n",
              "\t<tr><th scope=row></th><td>0</td><td>0</td><td>0</td></tr>\n",
              "</tbody>\n",
              "</table>\n"
            ],
            "text/latex": "A matrix: 1 × 3 of type dbl\n\\begin{tabular}{r|lll}\n  & PointEst & Lower & Upper\\\\\n\\hline\n\t & 0 & 0 & 0\\\\\n\\end{tabular}\n",
            "text/markdown": "\nA matrix: 1 × 3 of type dbl\n\n| <!--/--> | PointEst | Lower | Upper |\n|---|---|---|---|\n| <!----> | 0 | 0 | 0 |\n\n",
            "text/plain": [
              " PointEst Lower Upper\n",
              " 0        0     0    "
            ]
          },
          "metadata": {},
          "output_type": "display_data"
        }
      ],
      "source": [
        "library(Hmisc)\n",
        "binconf(x = 0, n = 25, method = \"asymptotic\")"
      ]
    },
    {
      "cell_type": "markdown",
      "metadata": {
        "id": "ycJ5tV3wirXe"
      },
      "source": [
        "Interval kepercayaan kedua adalah dengan menggunakan score test. Perhatikan bahwa interval kepercayaan skor mengandung nilai $\\pi_0$ yang memenuhi $|S|<z_{.025}$ dimana $S$ diberikan di eq.(1.9). Selain itu,\n",
        "endpoint dari interval tersebut harus merupakan solusi dari eq.(1.10). Kita bisa menggunakan R untuk mencari solusi dari eq.(1.10) menggunakan fungsi `optim`. Tapi, untuk saat ini, mari menggunakan build-in function `prop.test` atau `Hmisc::binconf` dengan argumen `method = \"wilson\"`."
      ]
    },
    {
      "cell_type": "code",
      "execution_count": null,
      "metadata": {
        "colab": {
          "base_uri": "https://localhost:8080/",
          "height": 115
        },
        "id": "R2pHWrQCiwCv",
        "outputId": "f8c627fa-3c59-4a82-eab2-7a710a58fa6f"
      },
      "outputs": [
        {
          "data": {
            "text/html": [
              "<style>\n",
              ".list-inline {list-style: none; margin:0; padding: 0}\n",
              ".list-inline>li {display: inline-block}\n",
              ".list-inline>li:not(:last-child)::after {content: \"\\00b7\"; padding: 0 .5ex}\n",
              "</style>\n",
              "<ol class=list-inline><li>0</li><li>0.133192250939048</li></ol>\n"
            ],
            "text/latex": "\\begin{enumerate*}\n\\item 0\n\\item 0.133192250939048\n\\end{enumerate*}\n",
            "text/markdown": "1. 0\n2. 0.133192250939048\n\n\n",
            "text/plain": [
              "[1] 0.0000000 0.1331923\n",
              "attr(,\"conf.level\")\n",
              "[1] 0.95"
            ]
          },
          "metadata": {},
          "output_type": "display_data"
        },
        {
          "data": {
            "text/html": [
              "<table class=\"dataframe\">\n",
              "<caption>A matrix: 1 × 3 of type dbl</caption>\n",
              "<thead>\n",
              "\t<tr><th></th><th scope=col>PointEst</th><th scope=col>Lower</th><th scope=col>Upper</th></tr>\n",
              "</thead>\n",
              "<tbody>\n",
              "\t<tr><th scope=row></th><td>0</td><td>0</td><td>0.1331923</td></tr>\n",
              "</tbody>\n",
              "</table>\n"
            ],
            "text/latex": "A matrix: 1 × 3 of type dbl\n\\begin{tabular}{r|lll}\n  & PointEst & Lower & Upper\\\\\n\\hline\n\t & 0 & 0 & 0.1331923\\\\\n\\end{tabular}\n",
            "text/markdown": "\nA matrix: 1 × 3 of type dbl\n\n| <!--/--> | PointEst | Lower | Upper |\n|---|---|---|---|\n| <!----> | 0 | 0 | 0.1331923 |\n\n",
            "text/plain": [
              " PointEst Lower Upper    \n",
              " 0        0     0.1331923"
            ]
          },
          "metadata": {},
          "output_type": "display_data"
        }
      ],
      "source": [
        "# menggunakan prop.test\n",
        "score_ci <- prop.test(x = 0, n = 25, correct = F)\n",
        "score_ci$conf.int\n",
        "\n",
        "# menggunakan binconf\n",
        "binconf(x = 0, n = 25, method = \"wilson\")"
      ]
    },
    {
      "cell_type": "markdown",
      "metadata": {
        "id": "j1RPKmpii0WM"
      },
      "source": [
        "Selanjutnya, kita akan menghitung interval kepercayaan likelihood-ratio (LR). Sebenarnya, kita bisa saja mencari akar dari eq.(1.13) secara analitik. Namun, R memberikan kemudahan dimana kita bisa menggunakan fungsi `optim` untuk mencari akarnya.\n",
        "\n",
        "Idenya adalah, kita ingin meminimumkan jarak kuadrat antara statistik LR dengan quantil $\\chi^2_1(\\alpha)$. *Jangan hanya running the code saja! Coba dimengerti!*\n",
        "\n",
        "\n",
        "Berdasarkan bab 1.4.3, diperoleh $-2(L_0-L_1)=-50 \\log{(1-\\pi_0)} < \\chi^2_1(0.05)$. Maka,"
      ]
    },
    {
      "cell_type": "code",
      "execution_count": null,
      "metadata": {
        "colab": {
          "base_uri": "https://localhost:8080/",
          "height": 34
        },
        "id": "yRavTxmqi5MV",
        "outputId": "6a0a3d9f-c73d-435d-e7a1-bcf50dc0344d"
      },
      "outputs": [
        {
          "data": {
            "text/html": [
              "0.0739514328258776"
            ],
            "text/latex": "0.0739514328258776",
            "text/markdown": "0.0739514328258776",
            "text/plain": [
              "[1] 0.07395143"
            ]
          },
          "metadata": {},
          "output_type": "display_data"
        }
      ],
      "source": [
        "# fungsi objektif kita\n",
        "f <- function(x, chi2) (-50*log(1-x) - chi2)^2\n",
        "\n",
        "# interval kepercayaannya adalah\n",
        "result <- optim(par = .5, fn = f, chi2 = qchisq(.95, 1), method = \"L-BFGS-B\", lower = 0, upper = 1)\n",
        "result$par"
      ]
    },
    {
      "cell_type": "markdown",
      "metadata": {
        "id": "aVnSXO1Rmp15"
      },
      "source": [
        "Apa artinya?\n",
        "\n",
        "Interval kepercayaan menggunakan metode LR adalah $\\pi \\in (0, .0740)$"
      ]
    },
    {
      "cell_type": "markdown",
      "metadata": {
        "id": "3_vcHVo4i-LV"
      },
      "source": [
        "## Menguji Teori Mendel (Parameter Multinomial)\n",
        "\n",
        "\n",
        "Sebagai ilustrasi untuk menguji hipotesis pada parameter distribusi multinomial menggunakan uji khi-kuadrat Pearson dan LR, kita akan menggunakan contoh Teori Mendel; baca bab 1.5.4 [pg.19, 1].\n",
        "\n",
        "Uji khi-kuadrat Pearson dapat dengan mudah dilakukan dengan memanggil fungsi `chisq.test`."
      ]
    },
    {
      "cell_type": "code",
      "execution_count": null,
      "metadata": {
        "colab": {
          "base_uri": "https://localhost:8080/",
          "height": 106
        },
        "id": "zPs2hZu7jAoo",
        "outputId": "819664f4-75c6-42a0-e8fe-6d11a73a9b77"
      },
      "outputs": [
        {
          "data": {
            "text/plain": [
              "\n",
              "\tChi-squared test for given probabilities\n",
              "\n",
              "data:  c(6022, 2001)\n",
              "X-squared = 0.014999, df = 1, p-value = 0.9025\n"
            ]
          },
          "metadata": {},
          "output_type": "display_data"
        }
      ],
      "source": [
        "chisq.test(x = c(6022,2001), p = c(.75,.25))"
      ]
    },
    {
      "cell_type": "markdown",
      "metadata": {
        "id": "nNJL9MDMjBuu"
      },
      "source": [
        "Bagaimana dengan uji khi-kuadrat LR?"
      ]
    },
    {
      "cell_type": "code",
      "execution_count": null,
      "metadata": {
        "colab": {
          "base_uri": "https://localhost:8080/",
          "height": 34
        },
        "id": "2AlJ7vC7jEly",
        "outputId": "0dd07dd4-4f05-4317-fe8c-7f5b701e339f"
      },
      "outputs": [
        {
          "data": {
            "text/html": [
              "0.902502399614292"
            ],
            "text/latex": "0.902502399614292",
            "text/markdown": "0.902502399614292",
            "text/plain": [
              "[1] 0.9025024"
            ]
          },
          "metadata": {},
          "output_type": "display_data"
        }
      ],
      "source": [
        "obs <- c(6022, 2001)\n",
        "expected <- 8023 * c(0.75, 0.25)\n",
        "1-pchisq(2 * sum(obs * log(obs/expected)), df=1)"
      ]
    },
    {
      "cell_type": "markdown",
      "metadata": {
        "id": "pcfP6-OvjKw2"
      },
      "source": [
        "## Latihan"
      ]
    },
    {
      "cell_type": "markdown",
      "metadata": {
        "id": "KcCCtobejes2"
      },
      "source": [
        "1. Coba bangkitkan 10 variabel acak berdistribusi multinomial dengan $n=15$ dan $\\boldsymbol{\\pi}=\\{.1, .2, .8\\}$."
      ]
    },
    {
      "cell_type": "code",
      "execution_count": null,
      "metadata": {
        "id": "-Gnm4HTTjOgZ"
      },
      "outputs": [],
      "source": []
    },
    {
      "cell_type": "markdown",
      "metadata": {
        "id": "IEKe7zCsjPKj"
      },
      "source": [
        "2. Dari variabel acak yang Anda bangkitkan di no.1, cari pmf-nya untuk data ke-8."
      ]
    },
    {
      "cell_type": "code",
      "execution_count": null,
      "metadata": {
        "id": "fA_7c-PkjRxw"
      },
      "outputs": [],
      "source": []
    },
    {
      "cell_type": "markdown",
      "metadata": {
        "id": "em6nze39jS3U"
      },
      "source": [
        "3. Misalkan $\\hat{\\pi}=.2$ pada contoh Proporsi Vegetarian. Konstruksilah 95% interval kepercayaan menggunakan a) Wald, b) skor, dan c) LR."
      ]
    },
    {
      "cell_type": "code",
      "execution_count": null,
      "metadata": {
        "id": "ltmA3NzgjVQb"
      },
      "outputs": [],
      "source": []
    },
    {
      "cell_type": "markdown",
      "metadata": {
        "id": "UPubUQs-jVo5"
      },
      "source": [
        "4. Apakah interpretasi dari hasil luaran uji khi-kuadrat Pearson dan LR pada contoh Teori Mendel?"
      ]
    },
    {
      "cell_type": "code",
      "execution_count": null,
      "metadata": {
        "id": "5uccz6ZejX8z"
      },
      "outputs": [],
      "source": []
    },
    {
      "cell_type": "markdown",
      "metadata": {
        "id": "F7cl2lgNjYdI"
      },
      "source": [
        "5. Mengapa hasil luaran uji khi-kuadrat Pearson dan LR sama? Dapatkah kita mengeneralisir untuk skenario lainnya?"
      ]
    },
    {
      "cell_type": "code",
      "execution_count": null,
      "metadata": {
        "id": "iwtUtQ4tjZHl"
      },
      "outputs": [],
      "source": []
    }
  ],
  "metadata": {
    "colab": {
      "provenance": [],
      "include_colab_link": true
    },
    "kernelspec": {
      "display_name": "R",
      "name": "ir"
    },
    "language_info": {
      "name": "R"
    }
  },
  "nbformat": 4,
  "nbformat_minor": 0
}
